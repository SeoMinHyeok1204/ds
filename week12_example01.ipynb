{
 "cells": [
  {
   "cell_type": "code",
   "execution_count": 15,
   "id": "af844a7e",
   "metadata": {},
   "outputs": [
    {
     "name": "stdout",
     "output_type": "stream",
     "text": [
      "일교차가 가장 큰 날\n",
      "2020-05-06일에 16.5도 였습니다.\n",
      "최저 기온이 가장 낮은 날\n",
      "2020-12-30일에 -12.9도 였습니다.\n",
      "최고 기온이 가장 높은 날\n",
      "2020-06-22일에 35.4도 였습니다.\n"
     ]
    }
   ],
   "source": [
    "import csv\n",
    "f = open('seoul.csv', 'r', encoding = 'cp949')\n",
    "data = csv.reader(f, delimiter=',')\n",
    "max = 0\n",
    "min = 99\n",
    "sub = 0;\n",
    "date = [0] * 3\n",
    "header = next(data)\n",
    "for row in data:\n",
    "    if row[-1] == '':\n",
    "        row[-1] = - 999\n",
    "    if row[-2] == '':\n",
    "        row[-2] = 999\n",
    "    row[-1] = float(row[-1])\n",
    "    if (max < row[-1]):\n",
    "        max = row[-1]\n",
    "        date[0] = row[0]\n",
    "        \n",
    "    row[-2] = float(row[-2])\n",
    "    if (min > row[-2]):\n",
    "        min = row[-2]\n",
    "        date[1] = row[0]\n",
    "        \n",
    "    if(sub < row[-1]-row[-2]):\n",
    "        sub = row[-1]-row[-2]\n",
    "        date[2] = row[0]\n",
    "f.close()\n",
    "\n",
    "print(\"일교차가 가장 큰 날\")\n",
    "print(str(date[2])+\"일에 \"+str(sub)+\"도 였습니다.\")\n",
    "print(\"최저 기온이 가장 낮은 날\")\n",
    "print(str(date[1])+\"일에 \"+str(min)+\"도 였습니다.\")\n",
    "print(\"최고 기온이 가장 높은 날\")\n",
    "print(str(date[0])+\"일에 \"+str(max)+\"도 였습니다.\")"
   ]
  },
  {
   "cell_type": "code",
   "execution_count": null,
   "id": "dd91751c",
   "metadata": {},
   "outputs": [],
   "source": []
  }
 ],
 "metadata": {
  "kernelspec": {
   "display_name": "Python 3",
   "language": "python",
   "name": "python3"
  },
  "language_info": {
   "codemirror_mode": {
    "name": "ipython",
    "version": 3
   },
   "file_extension": ".py",
   "mimetype": "text/x-python",
   "name": "python",
   "nbconvert_exporter": "python",
   "pygments_lexer": "ipython3",
   "version": "3.9.4"
  }
 },
 "nbformat": 4,
 "nbformat_minor": 5
}
