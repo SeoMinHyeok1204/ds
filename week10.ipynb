{
 "cells": [
  {
   "cell_type": "code",
   "execution_count": 2,
   "id": "a1ffcd04",
   "metadata": {},
   "outputs": [
    {
     "name": "stdout",
     "output_type": "stream",
     "text": [
      "Numbers? 10 456 87 78\n",
      "Max = 456\n"
     ]
    }
   ],
   "source": [
    "num = input(\"Numbers? \")\n",
    "array = num.split()\n",
    "best = 0\n",
    "for i in array:\n",
    "    if(int(i)>best):\n",
    "        best = int(i)\n",
    "print(\"Max = \"+str(best))"
   ]
  },
  {
   "cell_type": "code",
   "execution_count": 2,
   "id": "19c934c5",
   "metadata": {},
   "outputs": [
    {
     "name": "stdout",
     "output_type": "stream",
     "text": [
      "암호화 할 문자열을 입력하세요. : abc def\n",
      "efg bcd \n",
      "복호화 할 문자열을 입력하세요. : efg bcd\n",
      "abc def \n"
     ]
    }
   ],
   "source": [
    "s = input(\"암호화 할 문자열을 입력하세요. : \")\n",
    "r = ''\n",
    "split = s.split()\n",
    "reverse = split[::-1]\n",
    "for string in reverse:\n",
    "    for ch in string:\n",
    "        tmp = ord(ch)\n",
    "        r+=(chr(tmp+1))\n",
    "    r+=\" \"\n",
    "print(r)\n",
    "\n",
    "s = input(\"복호화 할 문자열을 입력하세요. : \")\n",
    "r = ''\n",
    "split = s.split()\n",
    "reverse = split[::-1]\n",
    "for string in reverse:\n",
    "    for ch in string:\n",
    "        tmp = ord(ch)\n",
    "        r+=(chr(tmp-1))\n",
    "    r+=\" \"\n",
    "print(r)"
   ]
  },
  {
   "cell_type": "code",
   "execution_count": 4,
   "id": "43a0647f",
   "metadata": {},
   "outputs": [
    {
     "name": "stdout",
     "output_type": "stream",
     "text": [
      "이름을 입력하세요 : a\n",
      "번호를 입력하세요 : 123\n",
      "이름을 입력하세요 : b\n",
      "번호를 입력하세요 : 234\n",
      "이름을 입력하세요 : c\n",
      "번호를 입력하세요 : 345\n",
      "이름을 입력하세요 : d\n",
      "번호를 입력하세요 : 456\n",
      "이름을 입력하세요 : e\n",
      "번호를 입력하세요 : 567\n",
      "이름을 입력하세요 : f\n",
      "번호를 입력하세요 : 678\n",
      "이름을 입력하세요 : g\n",
      "번호를 입력하세요 : 789\n",
      "이름을 입력하세요 : h\n",
      "번호를 입력하세요 : 890\n",
      "이름을 입력하세요 : i\n",
      "번호를 입력하세요 : 901\n",
      "이름을 입력하세요 : j\n",
      "번호를 입력하세요 : 012\n",
      "번호를 찾을 사람의 이름을 입력하세요 : f\n",
      "f의 번호 = 678\n",
      "이름을 찾을 사람의 번호를 입력하세요 : 901\n",
      "901의 이름 = i\n"
     ]
    }
   ],
   "source": [
    "dic = {}\n",
    "for i in range(10):\n",
    "    name = input(\"이름을 입력하세요 : \")\n",
    "    num = input(\"번호를 입력하세요 : \")\n",
    "    dic[name] = num\n",
    "    dic[num] = name\n",
    "\n",
    "serchName = input(\"번호를 찾을 사람의 이름을 입력하세요 : \")\n",
    "print(serchName+\"의 번호 = \"+dic[serchName])\n",
    "\n",
    "serchNum = input(\"이름을 찾을 사람의 번호를 입력하세요 : \")\n",
    "print(serchNum+\"의 이름 = \"+dic[serchNum])"
   ]
  }
 ],
 "metadata": {
  "kernelspec": {
   "display_name": "Python 3",
   "language": "python",
   "name": "python3"
  },
  "language_info": {
   "codemirror_mode": {
    "name": "ipython",
    "version": 3
   },
   "file_extension": ".py",
   "mimetype": "text/x-python",
   "name": "python",
   "nbconvert_exporter": "python",
   "pygments_lexer": "ipython3",
   "version": "3.9.4"
  }
 },
 "nbformat": 4,
 "nbformat_minor": 5
}
