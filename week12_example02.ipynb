{
 "cells": [
  {
   "cell_type": "code",
   "execution_count": 46,
   "id": "6632b1e5",
   "metadata": {},
   "outputs": [
    {
     "name": "stdout",
     "output_type": "stream",
     "text": [
      "이용객이 가장 많은 역 순위\n",
      "1.강남(3167883)\n",
      "2.신림(2799927)\n",
      "3.잠실(송파구청)(2669433)\n",
      "\n",
      "이용객이 가장 적은 역 순위\n",
      "1.계양(2)\n",
      "2.신내(3)\n",
      "3.지축(4)\n"
     ]
    }
   ],
   "source": [
    "import csv\n",
    "f = open('subwayfee.csv', 'r')\n",
    "data = csv.reader(f)\n",
    "header = next(data)\n",
    "dic = {}\n",
    "max = [0] * 3\n",
    "min = [0] * 3\n",
    "sum = 0\n",
    "for row in data:\n",
    "    for i in range(4,8):\n",
    "        num = row[i].split(\",\")\n",
    "        index = len(num)\n",
    "        for s in num:\n",
    "            sum += int(s)*(1000**(index-1))\n",
    "            index-=1\n",
    "    dic[sum] = row[3]\n",
    "    sum=0\n",
    "key = sorted(dic)\n",
    "\n",
    "print(\"이용객이 가장 많은 역 순위\")\n",
    "print(\"1.\"+dic[key[-1]]+\"(\"+str(key[-1])+\")\")\n",
    "print(\"2.\"+dic[key[-2]]+\"(\"+str(key[-2])+\")\")\n",
    "print(\"3.\"+dic[key[-3]]+\"(\"+str(key[-3])+\")\")\n",
    "print()\n",
    "print(\"이용객이 가장 적은 역 순위\")\n",
    "print(\"1.\"+dic[key[0]]+\"(\"+str(key[0])+\")\")\n",
    "print(\"2.\"+dic[key[1]]+\"(\"+str(key[1])+\")\")\n",
    "print(\"3.\"+dic[key[2]]+\"(\"+str(key[2])+\")\")\n",
    "    \n",
    "    \n",
    "\n",
    "    "
   ]
  }
 ],
 "metadata": {
  "kernelspec": {
   "display_name": "Python 3",
   "language": "python",
   "name": "python3"
  },
  "language_info": {
   "codemirror_mode": {
    "name": "ipython",
    "version": 3
   },
   "file_extension": ".py",
   "mimetype": "text/x-python",
   "name": "python",
   "nbconvert_exporter": "python",
   "pygments_lexer": "ipython3",
   "version": "3.9.4"
  }
 },
 "nbformat": 4,
 "nbformat_minor": 5
}
