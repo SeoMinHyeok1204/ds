{
 "cells": [
  {
   "cell_type": "code",
   "execution_count": 32,
   "id": "62c7818f",
   "metadata": {},
   "outputs": [
    {
     "name": "stdout",
     "output_type": "stream",
     "text": [
      "x 값을 입력하십시오 : 2\n",
      "y = 25\n"
     ]
    }
   ],
   "source": [
    "x = int(input(\"x 값을 입력하십시오 : \"))\n",
    "y = 3*x*x+5*x+3\n",
    "print(\"y = \"+str(y))"
   ]
  },
  {
   "cell_type": "code",
   "execution_count": 33,
   "id": "53dc1f70",
   "metadata": {},
   "outputs": [
    {
     "name": "stdout",
     "output_type": "stream",
     "text": [
      "반지름을 입력하십시오 : 2\n",
      "원의 둘레 = 12.56\n",
      "원의 넓이 = 12.56\n"
     ]
    }
   ],
   "source": [
    "r = int(input(\"반지름을 입력하십시오 : \"))\n",
    "l = 2*3.14*r\n",
    "s = r*r*3.14\n",
    "print(\"원의 둘레 = \"+str(l))\n",
    "print(\"원의 넓이 = \"+str(s))"
   ]
  },
  {
   "cell_type": "code",
   "execution_count": null,
   "id": "34d587a1",
   "metadata": {},
   "outputs": [],
   "source": []
  }
 ],
 "metadata": {
  "kernelspec": {
   "display_name": "Python 3",
   "language": "python",
   "name": "python3"
  },
  "language_info": {
   "codemirror_mode": {
    "name": "ipython",
    "version": 3
   },
   "file_extension": ".py",
   "mimetype": "text/x-python",
   "name": "python",
   "nbconvert_exporter": "python",
   "pygments_lexer": "ipython3",
   "version": "3.9.4"
  }
 },
 "nbformat": 4,
 "nbformat_minor": 5
}
