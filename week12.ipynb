{
 "cells": [
  {
   "cell_type": "code",
   "execution_count": 15,
   "id": "af844a7e",
   "metadata": {},
   "outputs": [
    {
     "name": "stdout",
     "output_type": "stream",
     "text": [
      "일교차가 가장 큰 날\n",
      "2020-05-06일에 16.5도 였습니다.\n",
      "최저 기온이 가장 낮은 날\n",
      "2020-12-30일에 -12.9도 였습니다.\n",
      "최고 기온이 가장 높은 날\n",
      "2020-06-22일에 35.4도 였습니다.\n"
     ]
    }
   ],
   "source": [
    "#실습1\n",
    "import csv\n",
    "f = open('seoul.csv', 'r', encoding = 'cp949')\n",
    "data = csv.reader(f, delimiter=',')\n",
    "max = 0\n",
    "min = 99\n",
    "sub = 0;\n",
    "date = [0] * 3\n",
    "header = next(data)\n",
    "for row in data:\n",
    "    if row[-1] == '':\n",
    "        row[-1] = - 999\n",
    "    if row[-2] == '':\n",
    "        row[-2] = 999\n",
    "    row[-1] = float(row[-1])\n",
    "    if (max < row[-1]):\n",
    "        max = row[-1]\n",
    "        date[0] = row[0]\n",
    "        \n",
    "    row[-2] = float(row[-2])\n",
    "    if (min > row[-2]):\n",
    "        min = row[-2]\n",
    "        date[1] = row[0]\n",
    "        \n",
    "    if(sub < row[-1]-row[-2]):\n",
    "        sub = row[-1]-row[-2]\n",
    "        date[2] = row[0]\n",
    "f.close()\n",
    "\n",
    "print(\"일교차가 가장 큰 날\")\n",
    "print(str(date[2])+\"일에 \"+str(sub)+\"도 였습니다.\")\n",
    "print(\"최저 기온이 가장 낮은 날\")\n",
    "print(str(date[1])+\"일에 \"+str(min)+\"도 였습니다.\")\n",
    "print(\"최고 기온이 가장 높은 날\")\n",
    "print(str(date[0])+\"일에 \"+str(max)+\"도 였습니다.\")"
   ]
  },
  {
   "cell_type": "code",
   "execution_count": 1,
   "id": "dd91751c",
   "metadata": {},
   "outputs": [
    {
     "name": "stdout",
     "output_type": "stream",
     "text": [
      "이용객이 가장 많은 역 순위\n",
      "1.강남(3167883)\n",
      "2.신림(2799927)\n",
      "3.잠실(송파구청)(2669433)\n",
      "\n",
      "이용객이 가장 적은 역 순위\n",
      "1.계양(2)\n",
      "2.신내(3)\n",
      "3.지축(4)\n"
     ]
    }
   ],
   "source": [
    "#실습2\n",
    "import csv\n",
    "f = open('subwayfee.csv', 'r')\n",
    "data = csv.reader(f)\n",
    "header = next(data)\n",
    "dic = {}\n",
    "max = [0] * 3\n",
    "min = [0] * 3\n",
    "sum = 0\n",
    "for row in data:\n",
    "    for i in range(4,8):\n",
    "        num = row[i].split(\",\")\n",
    "        index = len(num)\n",
    "        for s in num:\n",
    "            sum += int(s)*(1000**(index-1))\n",
    "            index-=1\n",
    "    dic[sum] = row[3]\n",
    "    sum=0\n",
    "key = sorted(dic)\n",
    "\n",
    "print(\"이용객이 가장 많은 역 순위\")\n",
    "print(\"1.\"+dic[key[-1]]+\"(\"+str(key[-1])+\")\")\n",
    "print(\"2.\"+dic[key[-2]]+\"(\"+str(key[-2])+\")\")\n",
    "print(\"3.\"+dic[key[-3]]+\"(\"+str(key[-3])+\")\")\n",
    "print()\n",
    "print(\"이용객이 가장 적은 역 순위\")\n",
    "print(\"1.\"+dic[key[0]]+\"(\"+str(key[0])+\")\")\n",
    "print(\"2.\"+dic[key[1]]+\"(\"+str(key[1])+\")\")\n",
    "print(\"3.\"+dic[key[2]]+\"(\"+str(key[2])+\")\")"
   ]
  },
  {
   "cell_type": "code",
   "execution_count": null,
   "id": "95054e77",
   "metadata": {},
   "outputs": [],
   "source": []
  }
 ],
 "metadata": {
  "kernelspec": {
   "display_name": "Python 3",
   "language": "python",
   "name": "python3"
  },
  "language_info": {
   "codemirror_mode": {
    "name": "ipython",
    "version": 3
   },
   "file_extension": ".py",
   "mimetype": "text/x-python",
   "name": "python",
   "nbconvert_exporter": "python",
   "pygments_lexer": "ipython3",
   "version": "3.9.4"
  }
 },
 "nbformat": 4,
 "nbformat_minor": 5
}
